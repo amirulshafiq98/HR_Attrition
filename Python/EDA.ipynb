{
 "cells": [
  {
   "cell_type": "code",
   "execution_count": null,
   "id": "ce704067",
   "metadata": {},
   "outputs": [],
   "source": [
    "# EDA.ipynb\n",
    "\n",
    "# Imports\n",
    "import pandas as pd\n",
    "import matplotlib.pyplot as plt\n",
    "import seaborn as sns\n",
    "\n",
    "# ----- CONTROL FLAG -----\n",
    "# Set to True if you want to overwrite the processed CSVs\n",
    "# Set to False if you want to keep the current X_train/X_test split unchanged\n",
    "overwrite_files = True  # <<< Change this to True only when you want to re-run preprocessing\n",
    "\n",
    "# Load data\n",
    "df = pd.read_csv('full summary.csv')\n",
    "\n",
    "# Basic overview\n",
    "print(df.head())\n",
    "print(df.info())\n",
    "print(df.describe())\n",
    "\n",
    "# Check target variable balance\n",
    "sns.countplot(x='ever_terminated_flag', data=df)\n",
    "plt.title('Target Variable Distribution')\n",
    "plt.show()\n",
    "\n",
    "# Correlation matrix for numeric columns\n",
    "corr_matrix = df.corr(numeric_only=True)\n",
    "plt.figure(figsize=(12, 10))\n",
    "sns.heatmap(corr_matrix, annot=True, fmt='.2f', cmap='coolwarm')\n",
    "plt.title('Correlation Matrix')\n",
    "plt.show()\n",
    "\n",
    "# Additional EDA plots (example)\n",
    "# Distribution of age\n",
    "sns.histplot(df['age'], bins=30, kde=True)\n",
    "plt.title('Age Distribution')\n",
    "plt.show()\n",
    "\n",
    "# Boxplot of base salary by termination status\n",
    "sns.boxplot(x='ever_terminated_flag', y='base_salary', data=df)\n",
    "plt.title('Base Salary vs Termination Status')\n",
    "plt.show()\n",
    "\n",
    "# Countplot of department by termination status\n",
    "sns.countplot(x='department', hue='ever_terminated_flag', data=df)\n",
    "plt.title('Department vs Termination Status')\n",
    "plt.xticks(rotation=45)\n",
    "plt.show()\n"
   ]
  }
 ],
 "metadata": {
  "kernelspec": {
   "display_name": "Python 3",
   "language": "python",
   "name": "python3"
  },
  "language_info": {
   "name": "python",
   "version": "3.9.7"
  }
 },
 "nbformat": 4,
 "nbformat_minor": 5
}
